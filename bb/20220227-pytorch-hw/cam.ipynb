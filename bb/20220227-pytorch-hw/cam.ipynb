{
 "cells": [
  {
   "cell_type": "code",
   "execution_count": 1,
   "metadata": {
    "collapsed": true
   },
   "outputs": [],
   "source": [
    "import torch\n",
    "from torch import nn, optim\n",
    "from torch.nn import Module\n",
    "import torch.nn.functional as F\n",
    "import os\n",
    "# TO COMPLETE\n",
    "import os\n",
    "import torch\n",
    "import numpy as np\n",
    "from PIL import Image\n",
    "from torch import Generator\n",
    "from torch.utils.data import Dataset, random_split\n",
    "import copy\n",
    "from natsort import natsorted\n",
    "from torchvision import datasets, transforms\n",
    "from torch.utils.data import DataLoader\n",
    "device = torch.device(\"mps\")"
   ]
  },
  {
   "cell_type": "code",
   "execution_count": 2,
   "outputs": [],
   "source": [
    "class CNNModel(Module):\n",
    "    def __init__(self):\n",
    "        super(CNNModel,self).__init__()\n",
    "        self.conv1 = nn.Conv2d(3, 6, 5, 1, 2)\n",
    "        self.conv2 = nn.Conv2d(6, 12, 5, 1, 2)\n",
    "        self.pooling = nn.MaxPool2d(2)\n",
    "        self.linear1 = nn.Linear(12*16*16,512)\n",
    "        self.dropout = nn.Dropout(p=0.3)\n",
    "        self.linear2 = nn.Linear(512, 128)\n",
    "        self.linear3 = nn.Linear(128, 30)\n",
    "\n",
    "\n",
    "    def forward(self,x):\n",
    "        x = F.relu(self.pooling(self.conv1(x)))\n",
    "        x = F.relu(self.pooling(self.conv2(x)))\n",
    "        x = x.view(x.size(0),-1)\n",
    "        x = F.relu(self.linear1(x))\n",
    "        x = self.dropout(x)\n",
    "        x = F.relu(self.linear2(x))\n",
    "        x = self.linear3(x)\n",
    "        return x\n",
    "\n",
    "def nn_train(model, train_dataloader, val_dataloader, loss_fn, optimizer, epochs=1):\n",
    "    train_loss, val_loss, train_acc, val_acc = [], [], [], []\n",
    "    statsrec = np.zeros((4,epochs))\n",
    "    best_acc = 0\n",
    "\n",
    "    for e in range(epochs):\n",
    "        # training\n",
    "        # model.to(device)\n",
    "        model.train()\n",
    "        tmp_loss, tmp_correct = 0, 0\n",
    "        for batch, (X, y) in enumerate(train_dataloader):\n",
    "            # X, y = X.to(device), y.to(device) # Setup inputs to gpu\n",
    "            y_pred = model(X) # predict the input data\n",
    "            loss = loss_fn(y_pred, y) # check loss\n",
    "            optimizer.zero_grad() # reset the gradiant\n",
    "            loss.backward() # back propagation\n",
    "            optimizer.step() # forward propagation\n",
    "\n",
    "            tmp_correct += (torch.argmax(y_pred, dim=1) == y).sum()\n",
    "            tmp_loss += loss\n",
    "        train_loss.append(tmp_loss / len(train_dataloader))\n",
    "        train_acc.append(tmp_correct / 10800)\n",
    "\n",
    "        # validation\n",
    "        tmp_loss, tmp_correct = 0, 0\n",
    "        model.eval()\n",
    "        with torch.no_grad():\n",
    "            for X, y in val_dataloader:\n",
    "                # X, y = X.to(device), y.to(device)\n",
    "                y_pred = model(X)\n",
    "                loss = loss_fn(y_pred, y)\n",
    "\n",
    "                tmp_correct += (torch.argmax(y_pred, dim=1) == y).sum()\n",
    "                tmp_loss += loss\n",
    "            val_loss.append(tmp_loss / len(val_dataloader))\n",
    "            val_acc.append(tmp_correct / 2700)\n",
    "\n",
    "        statsrec[:,e] = (\n",
    "            train_loss[-1].cpu().detach().numpy(),\n",
    "            train_acc[-1].cpu().detach().numpy(),\n",
    "            val_loss[-1].cpu().detach().numpy(),\n",
    "            val_acc[-1].cpu().detach().numpy())\n",
    "\n",
    "        if val_acc[-1] > best_acc:\n",
    "            best_model_wgh = copy.deepcopy(model.state_dict())\n",
    "        print(f'epoch:{e+1}---train loss:{train_loss[-1]:.4f}---train accuracy:{train_acc[-1]:.4f}---val loss:{val_loss[-1]:.4f}---val accuracy:{val_acc[-1]:.4f}')\n",
    "\n",
    "    return best_model_wgh, statsrec\n"
   ],
   "metadata": {
    "collapsed": false
   }
  },
  {
   "cell_type": "code",
   "execution_count": 3,
   "outputs": [],
   "source": [
    "class_map = {}\n",
    "for line in open('TinyImageNet30/class.txt', 'r'):\n",
    "    class_map[line.split()[1]] = int(line.split()[0])"
   ],
   "metadata": {
    "collapsed": false
   }
  },
  {
   "cell_type": "code",
   "execution_count": 4,
   "outputs": [],
   "source": [
    "train_path='TinyImageNet30/train_set/train_set/'\n",
    "image_file_map = {}\n",
    "for key, value in class_map.items():\n",
    "    for i in os.listdir(train_path + key):\n",
    "        image_file_map[os.path.join(train_path + key + '/' + i)] = value"
   ],
   "metadata": {
    "collapsed": false
   }
  },
  {
   "cell_type": "code",
   "execution_count": 5,
   "outputs": [],
   "source": [
    "class ImageDataset(Dataset):\n",
    "    def __init__(self,ids,label_mapping,transform=None):\n",
    "        self.ids=ids\n",
    "        self.label_mapping=label_mapping\n",
    "        self.transform=transform\n",
    "\n",
    "    def __len__(self):\n",
    "        return len(self.ids)\n",
    "\n",
    "    def __getitem__(self,index):\n",
    "        image=Image.open(self.ids[index]).convert(\"RGB\")\n",
    "        #convert_tensor = transforms.ToTensor()\n",
    "        #img=convert_tensor(img).permute(1,2,0)\n",
    "        if self.transform:\n",
    "            image = self.transform(image)\n",
    "\n",
    "        label=self.label_mapping[self.ids[index]]\n",
    "\n",
    "        return image, label"
   ],
   "metadata": {
    "collapsed": false
   }
  },
  {
   "cell_type": "code",
   "execution_count": 6,
   "outputs": [],
   "source": [
    "def imageDataLoader(image_file_map, batch_size=64, train_test_split=0.3, seed=0, transform=transforms.ToTensor()):\n",
    "\n",
    "    dataset=ImageDataset(list(image_file_map.keys()), image_file_map, transform=transform)\n",
    "    len_train= int(len(image_file_map) * (1 - train_test_split))\n",
    "    len_vald = int(len(image_file_map) * train_test_split)\n",
    "\n",
    "    #splitting data\n",
    "    train_set, vald_set = random_split(dataset, [len_train, len_vald], generator=Generator().manual_seed(seed))\n",
    "\n",
    "    #DataLoaders\n",
    "    train_loader= DataLoader(dataset=train_set, batch_size=batch_size, shuffle=True)\n",
    "    vald_loader= DataLoader(dataset=vald_set, batch_size=batch_size, shuffle=True)\n",
    "\n",
    "    return train_loader,vald_loader"
   ],
   "metadata": {
    "collapsed": false
   }
  },
  {
   "cell_type": "code",
   "execution_count": 7,
   "outputs": [
    {
     "name": "stdout",
     "output_type": "stream",
     "text": [
      "epoch:1---train loss:3.1663---train accuracy:0.1019---val loss:2.9535---val accuracy:0.1552\n",
      "epoch:2---train loss:2.7932---train accuracy:0.2013---val loss:2.6240---val accuracy:0.2496\n",
      "epoch:3---train loss:2.5524---train accuracy:0.2644---val loss:2.4739---val accuracy:0.3011\n",
      "epoch:4---train loss:2.3919---train accuracy:0.3128---val loss:2.3346---val accuracy:0.3285\n",
      "epoch:5---train loss:2.2574---train accuracy:0.3461---val loss:2.2929---val accuracy:0.3504\n",
      "epoch:6---train loss:2.1290---train accuracy:0.3817---val loss:2.2162---val accuracy:0.3559\n",
      "epoch:7---train loss:2.0281---train accuracy:0.4092---val loss:2.1444---val accuracy:0.3767\n",
      "epoch:8---train loss:1.9374---train accuracy:0.4292---val loss:2.1550---val accuracy:0.3770\n",
      "epoch:9---train loss:1.8393---train accuracy:0.4600---val loss:2.1362---val accuracy:0.3841\n",
      "epoch:10---train loss:1.7581---train accuracy:0.4803---val loss:2.1687---val accuracy:0.3867\n"
     ]
    }
   ],
   "source": [
    "transform = transforms.Compose(\n",
    "    [transforms.RandomHorizontalFlip(),\n",
    "     transforms.RandomGrayscale(),\n",
    "     transforms.ToTensor(),\n",
    "     transforms.Normalize((0.5, 0.5, 0.5), (0.5, 0.5, 0.5))]\n",
    ")\n",
    "\n",
    "batch_size = 64\n",
    "seed = 0\n",
    "\n",
    "train_loader,val_loader=imageDataLoader(\n",
    "    image_file_map,\n",
    "    batch_size=batch_size,\n",
    "    train_test_split=0.2,\n",
    "    seed=0,\n",
    "    transform=transform\n",
    ")\n",
    "\n",
    "cnn = CNNModel()\n",
    "cnn_loss_func = nn.CrossEntropyLoss()\n",
    "cnn_optimizer = optim.Adam(cnn.parameters(), lr=0.001)\n",
    "#TO COMPLETE --> Running you CNN model class\n",
    "epochs = 10\n",
    "\n",
    "state_dict, statsrec = nn_train(\n",
    "    cnn,\n",
    "    train_loader,\n",
    "    val_loader,\n",
    "    cnn_loss_func,\n",
    "    cnn_optimizer,\n",
    "    epochs = epochs\n",
    ")\n",
    "\n",
    "torch.save(state_dict, 'best-cnn-kagggle-param.pt')"
   ],
   "metadata": {
    "collapsed": false
   }
  },
  {
   "cell_type": "code",
   "execution_count": 16,
   "outputs": [
    {
     "data": {
      "text/plain": "<All keys matched successfully>"
     },
     "execution_count": 16,
     "metadata": {},
     "output_type": "execute_result"
    }
   ],
   "source": [
    "cnn = CNNModel()\n",
    "cnn.load_state_dict(torch.load('best-cnn-kagggle-param.pt'))"
   ],
   "metadata": {
    "collapsed": false
   }
  },
  {
   "cell_type": "code",
   "execution_count": 22,
   "outputs": [],
   "source": [
    "# Your code here!\n",
    "from torchcam.methods import SmoothGradCAMpp\n",
    "import matplotlib.pyplot as plt\n",
    "from torchcam.utils import overlay_mask\n",
    "from torchvision.io.image import read_image\n",
    "from torchvision.transforms.functional import normalize, resize, to_pil_image\n",
    "\n",
    "img_path = list(image_file_map.keys())[0]\n",
    "cam_extractor = SmoothGradCAMpp(cnn, input_shape=(3, 64, 64), target_layer='conv2')"
   ],
   "metadata": {
    "collapsed": false
   }
  },
  {
   "cell_type": "code",
   "execution_count": 11,
   "outputs": [],
   "source": [
    "transform = transforms.Compose(\n",
    "    [transforms.RandomHorizontalFlip(),\n",
    "     transforms.RandomGrayscale(),\n",
    "     transforms.ToTensor(),\n",
    "     transforms.Normalize((0.5, 0.5, 0.5), (0.5, 0.5, 0.5))]\n",
    ")\n",
    "\n",
    "batch_size = 1\n",
    "seed = 0\n",
    "\n",
    "train_loader,val_loader=imageDataLoader(\n",
    "    image_file_map,\n",
    "    batch_size=batch_size,\n",
    "    train_test_split=0.2,\n",
    "    seed=0,\n",
    "    transform=transform\n",
    ")"
   ],
   "metadata": {
    "collapsed": false
   }
  },
  {
   "cell_type": "code",
   "execution_count": 35,
   "outputs": [],
   "source": [
    "img = read_image(img_path)\n",
    "# Preprocess it for your chosen model\n",
    "input_tensor = normalize(resize(img, (64, 64)) / 255., [0.485, 0.456, 0.406], [0.229, 0.224, 0.225])\n",
    "\n",
    "out = cnn(input_tensor.unsqueeze(0))\n",
    "cams = cam_extractor(out.squeeze(0).argmax().item(), out.cpu())"
   ],
   "metadata": {
    "collapsed": false
   }
  },
  {
   "cell_type": "code",
   "execution_count": 36,
   "outputs": [
    {
     "data": {
      "text/plain": "<Figure size 640x480 with 1 Axes>",
      "image/png": "[encoded data removed]"
     },
     "metadata": {},
     "output_type": "display_data"
    }
   ],
   "source": [
    "# The raw CAM\n",
    "for name, cam in zip(cam_extractor.target_names, cams):\n",
    "    plt.imshow(cam.squeeze(0).numpy()); plt.axis('off'); plt.title(name); plt.show()"
   ],
   "metadata": {
    "collapsed": false
   }
  },
  {
   "cell_type": "code",
   "execution_count": 37,
   "outputs": [
    {
     "data": {
      "text/plain": "<Figure size 640x480 with 1 Axes>",
      "image/png": "[encoded data removed]"
     },
     "metadata": {},
     "output_type": "display_data"
    }
   ],
   "source": [
    "# Overlayed on the image\n",
    "for name, cam in zip(cam_extractor.target_names, cams):\n",
    "    result = overlay_mask(to_pil_image(img), to_pil_image(cam.squeeze(0), mode='F'), alpha=0.5)\n",
    "    plt.imshow(result); plt.axis('off'); plt.title(name); plt.show()"
   ],
   "metadata": {
    "collapsed": false
   }
  }
 ],
 "metadata": {
  "kernelspec": {
   "display_name": "Python 3",
   "language": "python",
   "name": "python3"
  },
  "language_info": {
   "codemirror_mode": {
    "name": "ipython",
    "version": 2
   },
   "file_extension": ".py",
   "mimetype": "text/x-python",
   "name": "python",
   "nbconvert_exporter": "python",
   "pygments_lexer": "ipython2",
   "version": "2.7.6"
  }
 },
 "nbformat": 4,
 "nbformat_minor": 0
}
