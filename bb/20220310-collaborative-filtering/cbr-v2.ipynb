{
 "cells": [
  {
   "cell_type": "code",
   "execution_count": 10,
   "metadata": {
    "collapsed": true
   },
   "outputs": [],
   "source": [
    "import pandas as pd\n",
    "import warnings\n",
    "warnings.filterwarnings('ignore')"
   ]
  },
  {
   "cell_type": "code",
   "execution_count": 15,
   "outputs": [],
   "source": [
    "# Define a class of content-based recommendation system for movies\n",
    "class CBR:\n",
    "    def __init__(self, filepath):\n",
    "        self.filepath = filepath\n",
    "        self.ratings_df, self.moviesWithGenres_df = self.preprocess_data(self.filepath)\n",
    "        self.train_data, self.test_data = self.split_data()\n",
    "        self.recommendations = self.recommend()\n",
    "\n",
    "    # load ratings and movies from filepath\n",
    "    def preprocess_data(self, filepath):\n",
    "        movies_df = pd.read_csv(filepath + 'movies.csv')\n",
    "\n",
    "\n",
    "        movies_df['year'] = movies_df.title.str.extract('(\\(\\d\\d\\d\\d\\))',expand=False)\n",
    "        #Removing the parentheses\n",
    "        movies_df['year'] = movies_df.year.str.extract('(\\d\\d\\d\\d)',expand=False)\n",
    "        #Removing the years from the 'title' column\n",
    "        movies_df['title'] = movies_df.title.str.replace('(\\(\\d\\d\\d\\d\\))', '')\n",
    "        #Applying the strip function to get rid of any ending whitespace characters that may have appeared\n",
    "        movies_df['title'] = movies_df['title'].apply(lambda x: x.strip())\n",
    "        movies_df['genres'] = movies_df.genres.str.split('|')\n",
    "\n",
    "        # Copying the movie dataframe into a new one since we won't need to use the genre information in our first case.\n",
    "        moviesWithGenres_df = movies_df.copy()\n",
    "\n",
    "        # For every row in the dataframe, iterate through the list of genres and place a 1 into the corresponding column\n",
    "        for index, row in movies_df.iterrows():\n",
    "            for genre in row['genres']:\n",
    "                moviesWithGenres_df.at[index, genre] = 1\n",
    "        # Filling in the NaN values with 0 to show that a movie doesn't have that column's genre\n",
    "        moviesWithGenres_df = moviesWithGenres_df.fillna(0)\n",
    "\n",
    "\n",
    "        ratings_df = pd.read_csv(filepath + 'ratings.csv')\n",
    "        ratings_df = ratings_df.drop('timestamp', 1)\n",
    "\n",
    "        return ratings_df, moviesWithGenres_df\n",
    "\n",
    "\n",
    "    # split ratings into train and test datasets\n",
    "    def split_data(self, test_size=0.2):\n",
    "        from sklearn.model_selection import train_test_split\n",
    "        train_data, test_data = train_test_split(self.ratings_df, test_size=test_size)\n",
    "        return train_data, test_data\n",
    "\n",
    "\n",
    "    # calculate the users likeness to each genre\n",
    "\n",
    "\n",
    "    # making recommendations based on users' given ratings in test datasets\n",
    "    def recommend(self):\n",
    "        userIds = self.train_data['userId'].unique()\n",
    "        recommendations = {}\n",
    "        for i in userIds:\n",
    "            inputData = self.train_data[self.train_data['userId'] == i]\n",
    "            userMovies = self.moviesWithGenres_df[self.moviesWithGenres_df['movieId'].isin(inputData['movieId'].tolist())]\n",
    "            #Resetting the index to avoid future issues\n",
    "            userMovies = userMovies.reset_index(drop=True)\n",
    "            #Dropping unnecessary issues due to save memory and to avoid issues\n",
    "            userGenreTable = userMovies.drop('movieId', 1).drop('title', 1).drop('genres', 1).drop('year', 1)\n",
    "            #Dot produt to get weights\n",
    "            userProfile = userGenreTable.transpose().dot(inputData.reset_index(drop=True)['rating'])\n",
    "            #Now let's get the genres of every movie in our original dataframe\n",
    "            genreTable = self.moviesWithGenres_df.set_index(self.moviesWithGenres_df['movieId'])\n",
    "            #And drop the unnecessary information\n",
    "            genreTable = genreTable.drop('movieId', 1).drop('title', 1).drop('genres', 1).drop('year', 1)\n",
    "            #Multiply the genres by the weights and then take the weighted average\n",
    "            recommendationTable_df = (((genreTable*userProfile).sum(axis=1))/(userProfile.sum())) * 5\n",
    "            recommendations[i] = recommendationTable_df.to_dict()\n",
    "        return recommendations\n",
    "\n",
    "    # calculate the precision\n",
    "    def precision(self, nitems):\n",
    "        hit = 0\n",
    "        all = 0\n",
    "        for i in self.train_data['userId'].unique():\n",
    "            for j, score in sorted(self.recommendations[i].items(), key=lambda x:x[1], reverse=True)[:nitems]:\n",
    "                if j in self.test_data[self.test_data['userId'] == i]['movieId'].tolist():\n",
    "                    hit += 1\n",
    "                all += 1\n",
    "        return hit/all"
   ],
   "metadata": {
    "collapsed": false
   }
  },
  {
   "cell_type": "code",
   "execution_count": 16,
   "outputs": [],
   "source": [
    "cbr = CBR('ml-latest-small/')"
   ],
   "metadata": {
    "collapsed": false
   }
  },
  {
   "cell_type": "code",
   "execution_count": 17,
   "outputs": [
    {
     "data": {
      "text/plain": "0.008852459016393442"
     },
     "execution_count": 17,
     "metadata": {},
     "output_type": "execute_result"
    }
   ],
   "source": [
    "cbr.precision(nitems=10)"
   ],
   "metadata": {
    "collapsed": false
   }
  }
 ],
 "metadata": {
  "kernelspec": {
   "display_name": "Python 3",
   "language": "python",
   "name": "python3"
  },
  "language_info": {
   "codemirror_mode": {
    "name": "ipython",
    "version": 2
   },
   "file_extension": ".py",
   "mimetype": "text/x-python",
   "name": "python",
   "nbconvert_exporter": "python",
   "pygments_lexer": "ipython2",
   "version": "2.7.6"
  }
 },
 "nbformat": 4,
 "nbformat_minor": 0
}
